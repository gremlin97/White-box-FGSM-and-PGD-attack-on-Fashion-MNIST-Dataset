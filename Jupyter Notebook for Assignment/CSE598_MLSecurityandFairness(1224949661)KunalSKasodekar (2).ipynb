{
  "nbformat": 4,
  "nbformat_minor": 0,
  "metadata": {
    "colab": {
      "provenance": [],
      "collapsed_sections": []
    },
    "kernelspec": {
      "name": "python3",
      "display_name": "Python 3"
    },
    "language_info": {
      "name": "python"
    },
    "accelerator": "GPU"
  },
  "cells": [
    {
      "cell_type": "code",
      "execution_count": 23,
      "metadata": {
        "id": "LBxboWs4gc_u"
      },
      "outputs": [],
      "source": [
        "import numpy as np\n",
        "import matplotlib.pyplot as plt\n",
        "from tqdm import tqdm # Displays a progress bar\n",
        "from pylab import *\n",
        "import torch\n",
        "import torchvision\n",
        "from torch import nn\n",
        "from torch import optim\n",
        "import torch.nn.functional as F\n",
        "from torchvision import datasets, transforms, utils\n",
        "from torch.utils.data import Dataset, Subset, DataLoader, random_split"
      ]
    },
    {
      "cell_type": "code",
      "source": [
        "# Load the dataset and train, val, test splits\n",
        "print(\"Loading datasets...\")\n",
        "FASHION_transform = transforms.Compose([\n",
        "    transforms.ToTensor(), # Transform from [0,255] uint8 to [0,1] float\n",
        "])\n",
        "FASHION_trainval = datasets.FashionMNIST('.', download=True, train=True, transform=FASHION_transform)\n",
        "FASHION_train = Subset(FASHION_trainval, range(50000))\n",
        "FASHION_val = Subset(FASHION_trainval, range(50000,60000))\n",
        "FASHION_test = datasets.FashionMNIST('.', download=True, train=False, transform=FASHION_transform)\n",
        "print(\"Done!\")"
      ],
      "metadata": {
        "colab": {
          "base_uri": "https://localhost:8080/"
        },
        "id": "d9hpN7x9gz0G",
        "outputId": "28d19b1d-5446-4c2b-ba52-74520574319d"
      },
      "execution_count": 24,
      "outputs": [
        {
          "output_type": "stream",
          "name": "stdout",
          "text": [
            "Loading datasets...\n",
            "Done!\n"
          ]
        }
      ]
    },
    {
      "cell_type": "code",
      "source": [
        "# Hyperparameters for the network\n",
        "lr =  3e-4  # Learning Rate\n",
        "batch_sz = 64 # Batch Size\n",
        "num_epochs = 25 # Epochs\n",
        "momentum=0.9 # Momentum Value\n",
        "epsilon = 25/255 \n",
        "steps = [1,2,5,10]\n",
        "alpha = 1e-2"
      ],
      "metadata": {
        "id": "l1U84gnog9QO"
      },
      "execution_count": 25,
      "outputs": []
    },
    {
      "cell_type": "code",
      "source": [
        "#Plot Variables\n",
        "training_loss = []\n",
        "val_loss = []\n",
        "pgd_adv_examples = []\n",
        "pgd_label = []\n",
        "original_label = []"
      ],
      "metadata": {
        "id": "pw4xW8_rg_g8"
      },
      "execution_count": 26,
      "outputs": []
    },
    {
      "cell_type": "code",
      "source": [
        "# Create dataloaders\n",
        "trainloader = DataLoader(FASHION_train, batch_size=batch_sz, shuffle=True)\n",
        "valloader = DataLoader(FASHION_val, batch_size=batch_sz, shuffle=True)\n",
        "testloader = DataLoader(FASHION_test, batch_size=batch_sz, shuffle=True)\n",
        "input_sz = 784"
      ],
      "metadata": {
        "id": "nXUEee6khBAz"
      },
      "execution_count": 27,
      "outputs": []
    },
    {
      "cell_type": "code",
      "source": [
        "class Network(nn.Module):\n",
        "    def __init__(self, in_channels=1):\n",
        "        super(Network, self).__init__()\n",
        "        self.conv1 = nn.Conv2d(in_channels=1, out_channels=20, kernel_size=(5,5), stride=(1,1), padding=(2,2))\n",
        "        self.pool = nn.MaxPool2d(kernel_size=(2,2), stride=(2,2))\n",
        "        self.conv2 = nn.Conv2d(in_channels=20, out_channels=50, kernel_size=(5,5), stride=(1,1), padding=(2,2))\n",
        "        self.fc1 = nn.Linear(2450,500) \n",
        "        self.fc2 = nn.Linear(500,10) \n",
        "\n",
        "\n",
        "    def forward(self,x):\n",
        "        # TODO: Design your own network, implement forward pass here\n",
        "        #x = x.view(-1,28*28) # Flatten each image in the batch\n",
        "        x = F.relu(self.conv1(x))\n",
        "        x = self.pool(x)\n",
        "        x = F.relu(self.conv2(x))\n",
        "        x = self.pool(x)\n",
        "        x = x.reshape(x.shape[0],-1)\n",
        "        x = F.relu(self.fc1(x))\n",
        "        x = self.fc2(x)\n",
        "        return x"
      ],
      "metadata": {
        "id": "xk-cnYtohMXM"
      },
      "execution_count": 28,
      "outputs": []
    },
    {
      "cell_type": "code",
      "source": [
        "device = \"cuda\" if torch.cuda.is_available() else \"cpu\" # Configure device\n",
        "model = Network().to(device)\n",
        "criterion = nn.CrossEntropyLoss() \n",
        "optimizer = optim.Adam(model.parameters(), lr=lr, weight_decay=1e-4)"
      ],
      "metadata": {
        "id": "9y_nRBOthmrf"
      },
      "execution_count": 29,
      "outputs": []
    },
    {
      "cell_type": "code",
      "source": [
        "def train(model, loader, num_epoch = num_epochs, valloader=valloader): # Train the model\n",
        "    print(\"Start training...\")\n",
        "    model.train() # Set the model to training mode\n",
        "    for i in range(num_epoch):\n",
        "        model.train()\n",
        "        running_loss = []\n",
        "        for batch, label in tqdm(loader):\n",
        "            batch = batch.to(device)\n",
        "            label = label.to(device)\n",
        "            optimizer.zero_grad() # Clear gradients from the previous iteration\n",
        "            pred = model(batch) # This will call Network.forward() that you implement\n",
        "            loss = criterion(pred, label) # Calculate the loss\n",
        "            running_loss.append(loss.item())\n",
        "            loss.backward() # Backprop gradients to all tensors in the network\n",
        "            optimizer.step() # Update trainable weights\n",
        "        training_loss.append(np.mean(running_loss))\n",
        "        evaluate_val_loss(model, valloader, i)\n",
        "        print(\"Train Epoch {} loss:{}\".format(i+1,np.mean(running_loss))) # Print the average loss for this epoch\n",
        "        \n",
        "\n",
        "    print(\"Done!\")"
      ],
      "metadata": {
        "id": "-_tcKIcdhMuC"
      },
      "execution_count": 30,
      "outputs": []
    },
    {
      "cell_type": "code",
      "source": [
        "def evaluate(model, loader): # Evaluate accuracy on validation / test set\n",
        "    model.eval() # Set the model to evaluation mode\n",
        "    correct = 0\n",
        "    with torch.no_grad(): # Do not calculate gradient to speed up computation\n",
        "        for batch, label in tqdm(loader):\n",
        "            batch = batch.to(device)\n",
        "            label = label.to(device)\n",
        "            pred = model(batch)\n",
        "            correct += (torch.argmax(pred,dim=1)==label).sum().item()\n",
        "    acc = correct/len(loader.dataset)\n",
        "    print(\"Evaluation accuracy: {}\".format(acc))\n",
        "    return acc"
      ],
      "metadata": {
        "id": "HNPlfGkshobH"
      },
      "execution_count": 31,
      "outputs": []
    },
    {
      "cell_type": "code",
      "source": [
        "def evaluate_val_loss(model, loader, i):\n",
        "    model.eval()\n",
        "    running_loss = []\n",
        "    for batch, label in tqdm(loader):\n",
        "        batch = batch.to(device)\n",
        "        label = label.to(device)\n",
        "        optimizer.zero_grad() # Clear gradients from the previous iteration\n",
        "        pred = model(batch) # This will call Network.forward() that you implement\n",
        "        loss = criterion(pred, label) # Calculate the loss\n",
        "        running_loss.append(loss.item())\n",
        "    val_loss.append(np.mean(running_loss))\n",
        "    print(\"Val Epoch {} loss:{}\".format(i+1,np.mean(running_loss)))"
      ],
      "metadata": {
        "id": "-EtkR-f5hsGO"
      },
      "execution_count": 32,
      "outputs": []
    },
    {
      "cell_type": "code",
      "source": [
        "def plot_loss(val_loss, train_loss):\n",
        "\n",
        "    # Training Loss\n",
        "    plt.figure(figsize=(10,5))\n",
        "    plt.title(\"Training Loss\")\n",
        "    plt.plot(train_loss,label=\"train\")\n",
        "    plt.xlabel(\"iterations\")\n",
        "    plt.ylabel(\"Train Loss\")\n",
        "    plt.legend()\n",
        "    plt.savefig(\"trainloss.png\")\n",
        "\n",
        "    # Validation Loss\n",
        "    plt.figure(figsize=(10,5))\n",
        "    plt.title(\"Validation Loss\")\n",
        "    plt.plot(val_loss,label=\"val\")\n",
        "    plt.xlabel(\"iterations\")\n",
        "    plt.ylabel(\"Validation Loss\")\n",
        "    plt.legend()\n",
        "    plt.savefig(\"valloss.png\")"
      ],
      "metadata": {
        "id": "ugfUtm52hwC_"
      },
      "execution_count": 33,
      "outputs": []
    },
    {
      "cell_type": "code",
      "source": [
        "def fgsm_attack(image, epsilon, batch_grad):\n",
        "    sign_batch_grad = batch_grad.sign()\n",
        "    perturbed_image = image + epsilon*sign_batch_grad\n",
        "    perturbed_image = torch.clamp(perturbed_image, 0, 1)\n",
        "    return perturbed_image"
      ],
      "metadata": {
        "id": "KVtQRLUFh0UT"
      },
      "execution_count": 34,
      "outputs": []
    },
    {
      "cell_type": "code",
      "source": [
        "def pgd_attack(images, labels, n, eps=epsilon):\n",
        "    clamp_max = 255\n",
        "    for i in range(n):\n",
        "        images.requires_grad = True\n",
        "        outputs = model(images)\n",
        "\n",
        "        model.zero_grad()\n",
        "        cost = criterion(outputs, labels).to(device)\n",
        "        cost.backward()\n",
        "\n",
        "        attack_images = images + alpha*images.grad.sign()\n",
        "        a = torch.clamp(images - eps, min=0)\n",
        "        b = (attack_images>=a).float()*attack_images + (a>attack_images).float()*a\n",
        "        c = (b > images+eps).float()*(images+eps) + (images+eps >= b).float()*b\n",
        "        images = torch.clamp(c,max=clamp_max).detach_()\n",
        "            \n",
        "    return images "
      ],
      "metadata": {
        "id": "i_qhdVwoh2KO"
      },
      "execution_count": 35,
      "outputs": []
    },
    {
      "cell_type": "code",
      "source": [
        "def test(model, device, test_loader, epsilon):\n",
        "\n",
        "    # Accuracy counter\n",
        "    c_pgd = 0\n",
        "    w_pgd = 0\n",
        "    correct = 0\n",
        "    wrong = 0\n",
        "\n",
        "    # Loop over all examples in test set\n",
        "    for batch, label in tqdm(test_loader):\n",
        "        batch, label = batch.to(device), label.to(device)\n",
        "        # Set requires_grad attribute of tensor. Important for Attack\n",
        "        batch.requires_grad = True\n",
        "        # Forward pass the batch through the model\n",
        "        output = model(batch)\n",
        "\n",
        "        # Calculate the loss\n",
        "        loss = criterion(output, label)\n",
        "\n",
        "        # Zero all existing gradients\n",
        "        model.zero_grad()\n",
        "\n",
        "        # Calculate gradients of model in backward pass\n",
        "        loss.backward()\n",
        "\n",
        "        # Collect datagrad\n",
        "        batch_grad = batch.grad.data\n",
        "\n",
        "        # Call FGSM Attack\n",
        "        perturbed_batch = fgsm_attack(batch, epsilon, batch_grad)\n",
        "        # Re-classify the perturbed image\n",
        "        pred = model(perturbed_batch)\n",
        "        # Check for success\n",
        "        correct += (torch.argmax(pred,dim=1)==label).sum().item()\n",
        "        wrong += (torch.argmax(pred,dim=1)!=label).sum().item()\n",
        "\n",
        "        # Call PGD Attack and metrics\n",
        "        pgd_batch = pgd_attack(batch,label,steps[3],epsilon) #Change index of steps list here to change pgd steps\n",
        "        pred_pgd = model(pgd_batch)\n",
        "        # Save adv batch for later use\n",
        "        pgd_adv_examples.append(pgd_batch)\n",
        "        pgd_label.append(pred_pgd)\n",
        "        original_label.append(label)\n",
        "        c_pgd += (torch.argmax(pred_pgd,dim=1)==label).sum().item()\n",
        "        w_pgd += (torch.argmax(pred_pgd,dim=1)!=label).sum().item()\n",
        "\n",
        "    acc = correct/len(testloader.dataset)\n",
        "    attack_acc = wrong/len(testloader.dataset)\n",
        "    attack_pgd = w_pgd/len(testloader.dataset)\n",
        "    print(\"Test accuracy on Attacked Test Data is: {} and Attack Success Rate (accuracy) is: {}\".format(acc,attack_acc))    \n",
        "    print(\"Attack Success Rate (accuracy) for PGD on Test Data is: {}\".format(attack_pgd))"
      ],
      "metadata": {
        "id": "3WVePFOrh4lL"
      },
      "execution_count": 36,
      "outputs": []
    },
    {
      "cell_type": "code",
      "source": [
        "def imshow(img, title,i):\n",
        "    npimg = img.numpy()\n",
        "    plt.figure(figsize = (15, 10))\n",
        "    plt.imshow(np.transpose(npimg,(1,2,0)))\n",
        "    plt.title(title)\n",
        "    plt.tight_layout()\n",
        "    plt.savefig(\"Plot{}.png\".format(i))"
      ],
      "metadata": {
        "id": "jLLvWHpKh7Cn"
      },
      "execution_count": 37,
      "outputs": []
    },
    {
      "cell_type": "code",
      "source": [
        "def run():\n",
        "\n",
        "    train(model, trainloader)\n",
        "    print(\"Evaluate on validation set...\")\n",
        "    evaluate(model, valloader)\n",
        "    print(\"Evaluate on test set\")\n",
        "    evaluate(model, testloader)\n",
        "\n",
        "    # Print Model Architecture\n",
        "    print(model)\n",
        "\n",
        "    save_path = \"Lenet5-FashionMNISTtrialv1.pt\"\n",
        "\n",
        "    # Save model  \n",
        "    torch.save(model, save_path)"
      ],
      "metadata": {
        "id": "8aWS9x-kh888"
      },
      "execution_count": 38,
      "outputs": []
    },
    {
      "cell_type": "code",
      "source": [
        "# Uncomment the comment below to retrain the model and create a new model file \n",
        "# (Change torch save path)\n",
        "run()"
      ],
      "metadata": {
        "colab": {
          "base_uri": "https://localhost:8080/"
        },
        "id": "Uz7oGTymiBrJ",
        "outputId": "1058b990-4166-4ff5-9149-d82b0656963f"
      },
      "execution_count": 39,
      "outputs": [
        {
          "output_type": "stream",
          "name": "stdout",
          "text": [
            "Start training...\n"
          ]
        },
        {
          "output_type": "stream",
          "name": "stderr",
          "text": [
            "100%|██████████| 782/782 [00:06<00:00, 117.77it/s]\n",
            "100%|██████████| 157/157 [00:01<00:00, 154.44it/s]\n"
          ]
        },
        {
          "output_type": "stream",
          "name": "stdout",
          "text": [
            "Val Epoch 1 loss:0.4119811970147358\n",
            "Train Epoch 1 loss:0.5802220493135855\n"
          ]
        },
        {
          "output_type": "stream",
          "name": "stderr",
          "text": [
            "100%|██████████| 782/782 [00:06<00:00, 119.59it/s]\n",
            "100%|██████████| 157/157 [00:01<00:00, 146.09it/s]\n"
          ]
        },
        {
          "output_type": "stream",
          "name": "stdout",
          "text": [
            "Val Epoch 2 loss:0.36784657551224825\n",
            "Train Epoch 2 loss:0.3764043198255322\n"
          ]
        },
        {
          "output_type": "stream",
          "name": "stderr",
          "text": [
            "100%|██████████| 782/782 [00:06<00:00, 119.63it/s]\n",
            "100%|██████████| 157/157 [00:01<00:00, 155.22it/s]\n"
          ]
        },
        {
          "output_type": "stream",
          "name": "stdout",
          "text": [
            "Val Epoch 3 loss:0.3339479648193736\n",
            "Train Epoch 3 loss:0.32623820803354464\n"
          ]
        },
        {
          "output_type": "stream",
          "name": "stderr",
          "text": [
            "100%|██████████| 782/782 [00:06<00:00, 119.92it/s]\n",
            "100%|██████████| 157/157 [00:01<00:00, 155.04it/s]\n"
          ]
        },
        {
          "output_type": "stream",
          "name": "stdout",
          "text": [
            "Val Epoch 4 loss:0.31551808009671556\n",
            "Train Epoch 4 loss:0.29358477826656587\n"
          ]
        },
        {
          "output_type": "stream",
          "name": "stderr",
          "text": [
            "100%|██████████| 782/782 [00:06<00:00, 120.81it/s]\n",
            "100%|██████████| 157/157 [00:01<00:00, 153.37it/s]\n"
          ]
        },
        {
          "output_type": "stream",
          "name": "stdout",
          "text": [
            "Val Epoch 5 loss:0.27897536360723957\n",
            "Train Epoch 5 loss:0.268964682431782\n"
          ]
        },
        {
          "output_type": "stream",
          "name": "stderr",
          "text": [
            "100%|██████████| 782/782 [00:06<00:00, 118.25it/s]\n",
            "100%|██████████| 157/157 [00:01<00:00, 153.82it/s]\n"
          ]
        },
        {
          "output_type": "stream",
          "name": "stdout",
          "text": [
            "Val Epoch 6 loss:0.2936267869867337\n",
            "Train Epoch 6 loss:0.25025819258197496\n"
          ]
        },
        {
          "output_type": "stream",
          "name": "stderr",
          "text": [
            "100%|██████████| 782/782 [00:06<00:00, 119.78it/s]\n",
            "100%|██████████| 157/157 [00:00<00:00, 157.84it/s]\n"
          ]
        },
        {
          "output_type": "stream",
          "name": "stdout",
          "text": [
            "Val Epoch 7 loss:0.2687104160238983\n",
            "Train Epoch 7 loss:0.23229422377389106\n"
          ]
        },
        {
          "output_type": "stream",
          "name": "stderr",
          "text": [
            "100%|██████████| 782/782 [00:06<00:00, 119.26it/s]\n",
            "100%|██████████| 157/157 [00:01<00:00, 154.25it/s]\n"
          ]
        },
        {
          "output_type": "stream",
          "name": "stdout",
          "text": [
            "Val Epoch 8 loss:0.2592548168483813\n",
            "Train Epoch 8 loss:0.21696007180282528\n"
          ]
        },
        {
          "output_type": "stream",
          "name": "stderr",
          "text": [
            "100%|██████████| 782/782 [00:06<00:00, 118.69it/s]\n",
            "100%|██████████| 157/157 [00:01<00:00, 156.47it/s]\n"
          ]
        },
        {
          "output_type": "stream",
          "name": "stdout",
          "text": [
            "Val Epoch 9 loss:0.23645899926496158\n",
            "Train Epoch 9 loss:0.20276239010341027\n"
          ]
        },
        {
          "output_type": "stream",
          "name": "stderr",
          "text": [
            "100%|██████████| 782/782 [00:07<00:00, 108.61it/s]\n",
            "100%|██████████| 157/157 [00:01<00:00, 154.21it/s]\n"
          ]
        },
        {
          "output_type": "stream",
          "name": "stdout",
          "text": [
            "Val Epoch 10 loss:0.2555037904412124\n",
            "Train Epoch 10 loss:0.18889392010600822\n"
          ]
        },
        {
          "output_type": "stream",
          "name": "stderr",
          "text": [
            "100%|██████████| 782/782 [00:06<00:00, 120.12it/s]\n",
            "100%|██████████| 157/157 [00:01<00:00, 155.02it/s]\n"
          ]
        },
        {
          "output_type": "stream",
          "name": "stdout",
          "text": [
            "Val Epoch 11 loss:0.2517526555260655\n",
            "Train Epoch 11 loss:0.1760551637405401\n"
          ]
        },
        {
          "output_type": "stream",
          "name": "stderr",
          "text": [
            "100%|██████████| 782/782 [00:06<00:00, 119.13it/s]\n",
            "100%|██████████| 157/157 [00:01<00:00, 154.85it/s]\n"
          ]
        },
        {
          "output_type": "stream",
          "name": "stdout",
          "text": [
            "Val Epoch 12 loss:0.24732138083618918\n",
            "Train Epoch 12 loss:0.16718980566124478\n"
          ]
        },
        {
          "output_type": "stream",
          "name": "stderr",
          "text": [
            "100%|██████████| 782/782 [00:06<00:00, 121.32it/s]\n",
            "100%|██████████| 157/157 [00:01<00:00, 155.69it/s]\n"
          ]
        },
        {
          "output_type": "stream",
          "name": "stdout",
          "text": [
            "Val Epoch 13 loss:0.24715251148126688\n",
            "Train Epoch 13 loss:0.1548453221583496\n"
          ]
        },
        {
          "output_type": "stream",
          "name": "stderr",
          "text": [
            "100%|██████████| 782/782 [00:06<00:00, 118.79it/s]\n",
            "100%|██████████| 157/157 [00:01<00:00, 156.01it/s]\n"
          ]
        },
        {
          "output_type": "stream",
          "name": "stdout",
          "text": [
            "Val Epoch 14 loss:0.2209277942919048\n",
            "Train Epoch 14 loss:0.1425901568563812\n"
          ]
        },
        {
          "output_type": "stream",
          "name": "stderr",
          "text": [
            "100%|██████████| 782/782 [00:06<00:00, 118.39it/s]\n",
            "100%|██████████| 157/157 [00:01<00:00, 155.73it/s]\n"
          ]
        },
        {
          "output_type": "stream",
          "name": "stdout",
          "text": [
            "Val Epoch 15 loss:0.256417419310588\n",
            "Train Epoch 15 loss:0.13453369210128818\n"
          ]
        },
        {
          "output_type": "stream",
          "name": "stderr",
          "text": [
            "100%|██████████| 782/782 [00:06<00:00, 120.32it/s]\n",
            "100%|██████████| 157/157 [00:01<00:00, 156.97it/s]\n"
          ]
        },
        {
          "output_type": "stream",
          "name": "stdout",
          "text": [
            "Val Epoch 16 loss:0.24524141520641413\n",
            "Train Epoch 16 loss:0.12402274702554164\n"
          ]
        },
        {
          "output_type": "stream",
          "name": "stderr",
          "text": [
            "100%|██████████| 782/782 [00:06<00:00, 116.11it/s]\n",
            "100%|██████████| 157/157 [00:01<00:00, 153.98it/s]\n"
          ]
        },
        {
          "output_type": "stream",
          "name": "stdout",
          "text": [
            "Val Epoch 17 loss:0.2313012615273333\n",
            "Train Epoch 17 loss:0.11579520696097666\n"
          ]
        },
        {
          "output_type": "stream",
          "name": "stderr",
          "text": [
            "100%|██████████| 782/782 [00:06<00:00, 119.53it/s]\n",
            "100%|██████████| 157/157 [00:00<00:00, 157.67it/s]\n"
          ]
        },
        {
          "output_type": "stream",
          "name": "stdout",
          "text": [
            "Val Epoch 18 loss:0.2436873173447931\n",
            "Train Epoch 18 loss:0.10517046021421433\n"
          ]
        },
        {
          "output_type": "stream",
          "name": "stderr",
          "text": [
            "100%|██████████| 782/782 [00:06<00:00, 120.93it/s]\n",
            "100%|██████████| 157/157 [00:01<00:00, 156.85it/s]\n"
          ]
        },
        {
          "output_type": "stream",
          "name": "stdout",
          "text": [
            "Val Epoch 19 loss:0.24213088000086463\n",
            "Train Epoch 19 loss:0.09862132198737024\n"
          ]
        },
        {
          "output_type": "stream",
          "name": "stderr",
          "text": [
            "100%|██████████| 782/782 [00:06<00:00, 119.55it/s]\n",
            "100%|██████████| 157/157 [00:00<00:00, 158.04it/s]\n"
          ]
        },
        {
          "output_type": "stream",
          "name": "stdout",
          "text": [
            "Val Epoch 20 loss:0.23851143673157235\n",
            "Train Epoch 20 loss:0.09147130147508724\n"
          ]
        },
        {
          "output_type": "stream",
          "name": "stderr",
          "text": [
            "100%|██████████| 782/782 [00:06<00:00, 120.16it/s]\n",
            "100%|██████████| 157/157 [00:01<00:00, 156.09it/s]\n"
          ]
        },
        {
          "output_type": "stream",
          "name": "stdout",
          "text": [
            "Val Epoch 21 loss:0.24525239392165926\n",
            "Train Epoch 21 loss:0.08401766061768545\n"
          ]
        },
        {
          "output_type": "stream",
          "name": "stderr",
          "text": [
            "100%|██████████| 782/782 [00:06<00:00, 120.12it/s]\n",
            "100%|██████████| 157/157 [00:01<00:00, 155.83it/s]\n"
          ]
        },
        {
          "output_type": "stream",
          "name": "stdout",
          "text": [
            "Val Epoch 22 loss:0.2630361841789856\n",
            "Train Epoch 22 loss:0.07710762176891346\n"
          ]
        },
        {
          "output_type": "stream",
          "name": "stderr",
          "text": [
            "100%|██████████| 782/782 [00:06<00:00, 120.37it/s]\n",
            "100%|██████████| 157/157 [00:01<00:00, 155.73it/s]\n"
          ]
        },
        {
          "output_type": "stream",
          "name": "stdout",
          "text": [
            "Val Epoch 23 loss:0.2524482058064573\n",
            "Train Epoch 23 loss:0.07140273056314576\n"
          ]
        },
        {
          "output_type": "stream",
          "name": "stderr",
          "text": [
            "100%|██████████| 782/782 [00:06<00:00, 118.78it/s]\n",
            "100%|██████████| 157/157 [00:01<00:00, 156.36it/s]\n"
          ]
        },
        {
          "output_type": "stream",
          "name": "stdout",
          "text": [
            "Val Epoch 24 loss:0.26692588655811966\n",
            "Train Epoch 24 loss:0.06578282328665523\n"
          ]
        },
        {
          "output_type": "stream",
          "name": "stderr",
          "text": [
            "100%|██████████| 782/782 [00:06<00:00, 119.11it/s]\n",
            "100%|██████████| 157/157 [00:01<00:00, 155.31it/s]\n"
          ]
        },
        {
          "output_type": "stream",
          "name": "stdout",
          "text": [
            "Val Epoch 25 loss:0.25811262737224056\n",
            "Train Epoch 25 loss:0.062239889574744515\n",
            "Done!\n",
            "Evaluate on validation set...\n"
          ]
        },
        {
          "output_type": "stream",
          "name": "stderr",
          "text": [
            "100%|██████████| 157/157 [00:00<00:00, 160.23it/s]\n"
          ]
        },
        {
          "output_type": "stream",
          "name": "stdout",
          "text": [
            "Evaluation accuracy: 0.9165\n",
            "Evaluate on test set\n"
          ]
        },
        {
          "output_type": "stream",
          "name": "stderr",
          "text": [
            "100%|██████████| 157/157 [00:00<00:00, 158.76it/s]"
          ]
        },
        {
          "output_type": "stream",
          "name": "stdout",
          "text": [
            "Evaluation accuracy: 0.9124\n",
            "Network(\n",
            "  (conv1): Conv2d(1, 20, kernel_size=(5, 5), stride=(1, 1), padding=(2, 2))\n",
            "  (pool): MaxPool2d(kernel_size=(2, 2), stride=(2, 2), padding=0, dilation=1, ceil_mode=False)\n",
            "  (conv2): Conv2d(20, 50, kernel_size=(5, 5), stride=(1, 1), padding=(2, 2))\n",
            "  (fc1): Linear(in_features=2450, out_features=500, bias=True)\n",
            "  (fc2): Linear(in_features=500, out_features=10, bias=True)\n",
            ")\n"
          ]
        },
        {
          "output_type": "stream",
          "name": "stderr",
          "text": [
            "\n"
          ]
        }
      ]
    },
    {
      "cell_type": "code",
      "source": [
        "model_path = \"Lenet5-FashionMNISTtrialv1.pt\"\n",
        "\n",
        "# Load model for inference\n",
        "attack_model = torch.load(model_path)\n",
        "attack_model.eval()\n",
        "\n",
        "# Plot train loss and val acc\n",
        "plot_loss(val_loss, training_loss)"
      ],
      "metadata": {
        "colab": {
          "base_uri": "https://localhost:8080/",
          "height": 683
        },
        "id": "5h52iXyDiFrc",
        "outputId": "ef4ce9d9-2073-4a1e-9afe-8e7ab824d47c"
      },
      "execution_count": 40,
      "outputs": [
        {
          "output_type": "display_data",
          "data": {
            "text/plain": [
              "<Figure size 720x360 with 1 Axes>"
            ],
            "image/png": "[encoded data removed]"
          },
          "metadata": {
            "needs_background": "light"
          }
        },
        {
          "output_type": "display_data",
          "data": {
            "text/plain": [
              "<Figure size 720x360 with 1 Axes>"
            ],
            "image/png": "[encoded data removed]"
          },
          "metadata": {
            "needs_background": "light"
          }
        }
      ]
    },
    {
      "cell_type": "code",
      "source": [
        "# Attack the Model\n",
        "\n",
        "#=====White Box FGSM and PGD Attack=====#\n",
        "\n",
        "test(attack_model, device, testloader, epsilon)\n",
        "\n",
        "# get some random test images and display them with image grid\n",
        "dataiter = iter(testloader)\n",
        "images, labels = dataiter.next()\n",
        "images = images[0:10]\n",
        "labels = labels[0:10]\n",
        "img_grid_normal = torchvision.utils.make_grid(images.cpu().data, nrow=10, normalize=\"False\", padding=3)\n",
        "imshow(img_grid_normal,[FASHION_test.classes[i] for i in labels],1)\n",
        "\n",
        "# Get adverserial Images\n",
        "i=pgd_adv_examples[0][0:10]\n",
        "l=pgd_label[0][0:10]\n",
        "l=torch.argmax(l,dim=1)\n",
        "original_l = original_label[0][0:10]\n",
        "\n",
        "print(l)\n",
        "\n",
        "print(labels)\n",
        "\n",
        "# create grid of adverserial images\n",
        "img_grid = torchvision.utils.make_grid(i.cpu().data, nrow=10, normalize=\"False\", padding=3)"
      ],
      "metadata": {
        "colab": {
          "base_uri": "https://localhost:8080/",
          "height": 264
        },
        "id": "q7R30O71iIf-",
        "outputId": "d29cfc9d-d908-443b-aa69-5104ceb57a2f"
      },
      "execution_count": 43,
      "outputs": [
        {
          "output_type": "stream",
          "name": "stderr",
          "text": [
            "100%|██████████| 157/157 [00:04<00:00, 33.18it/s]\n"
          ]
        },
        {
          "output_type": "stream",
          "name": "stdout",
          "text": [
            "Test accuracy on Attacked Test Data is: 0.1661 and Attack Success Rate (accuracy) is: 0.8339\n",
            "Attack Success Rate (accuracy) for PGD on Test Data is: 0.9457\n",
            "tensor([0, 4, 4, 6, 3, 6, 4, 4, 6, 5], device='cuda:0')\n",
            "tensor([9, 2, 5, 0, 7, 1, 6, 4, 0, 4])\n"
          ]
        },
        {
          "output_type": "display_data",
          "data": {
            "text/plain": [
              "<Figure size 1080x720 with 1 Axes>"
            ],
            "image/png": "[encoded data removed]"
          },
          "metadata": {
            "needs_background": "light"
          }
        }
      ]
    },
    {
      "cell_type": "code",
      "source": [
        "# Display Adversarial Images\n",
        "imshow(img_grid,[FASHION_test.classes[i] for i in l],2)"
      ],
      "metadata": {
        "colab": {
          "base_uri": "https://localhost:8080/",
          "height": 194
        },
        "id": "Cr0CCPMmB1fq",
        "outputId": "75263578-6469-4dd6-ab88-136e8881e3c3"
      },
      "execution_count": 44,
      "outputs": [
        {
          "output_type": "stream",
          "name": "stderr",
          "text": [
            "WARNING:matplotlib.image:Clipping input data to the valid range for imshow with RGB data ([0..1] for floats or [0..255] for integers).\n"
          ]
        },
        {
          "output_type": "display_data",
          "data": {
            "text/plain": [
              "<Figure size 1080x720 with 1 Axes>"
            ],
            "image/png": "[encoded data removed]"
          },
          "metadata": {
            "needs_background": "light"
          }
        }
      ]
    },
    {
      "cell_type": "code",
      "source": [
        "# Display Adverserial Images with True Labels\n",
        "imshow(img_grid,[FASHION_test.classes[i] for i in original_l],3)"
      ],
      "metadata": {
        "colab": {
          "base_uri": "https://localhost:8080/",
          "height": 194
        },
        "id": "_0nuUIhiB41M",
        "outputId": "3c611fb1-ac9a-4e24-ff3c-c355fd31e512"
      },
      "execution_count": 45,
      "outputs": [
        {
          "output_type": "stream",
          "name": "stderr",
          "text": [
            "WARNING:matplotlib.image:Clipping input data to the valid range for imshow with RGB data ([0..1] for floats or [0..255] for integers).\n"
          ]
        },
        {
          "output_type": "display_data",
          "data": {
            "text/plain": [
              "<Figure size 1080x720 with 1 Axes>"
            ],
            "image/png": "[encoded data removed]"
          },
          "metadata": {
            "needs_background": "light"
          }
        }
      ]
    },
    {
      "cell_type": "code",
      "source": [
        "evaluate(attack_model, testloader)"
      ],
      "metadata": {
        "colab": {
          "base_uri": "https://localhost:8080/"
        },
        "id": "NRmFxs-2jPet",
        "outputId": "e9fb4926-4e0f-4324-b77d-36e8ccec40ea"
      },
      "execution_count": 46,
      "outputs": [
        {
          "output_type": "stream",
          "name": "stderr",
          "text": [
            "100%|██████████| 157/157 [00:00<00:00, 159.78it/s]"
          ]
        },
        {
          "output_type": "stream",
          "name": "stdout",
          "text": [
            "Evaluation accuracy: 0.9124\n"
          ]
        },
        {
          "output_type": "stream",
          "name": "stderr",
          "text": [
            "\n"
          ]
        },
        {
          "output_type": "execute_result",
          "data": {
            "text/plain": [
              "0.9124"
            ]
          },
          "metadata": {},
          "execution_count": 46
        }
      ]
    },
    {
      "cell_type": "code",
      "source": [],
      "metadata": {
        "id": "uyCFTritjUBW"
      },
      "execution_count": 42,
      "outputs": []
    }
  ]
}